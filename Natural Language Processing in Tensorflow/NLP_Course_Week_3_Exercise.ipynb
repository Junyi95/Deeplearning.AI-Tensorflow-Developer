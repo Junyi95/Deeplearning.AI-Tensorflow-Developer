{
  "nbformat": 4,
  "nbformat_minor": 0,
  "metadata": {
    "accelerator": "GPU",
    "colab": {
      "name": "NLP Course - Week 3 Exercise Answer.ipynb",
      "provenance": [],
      "toc_visible": true
    },
    "kernelspec": {
      "display_name": "Python 3",
      "language": "python",
      "name": "python3"
    },
    "language_info": {
      "codemirror_mode": {
        "name": "ipython",
        "version": 3
      },
      "file_extension": ".py",
      "mimetype": "text/x-python",
      "name": "python",
      "nbconvert_exporter": "python",
      "pygments_lexer": "ipython3",
      "version": "3.7.6"
    }
  },
  "cells": [
    {
      "cell_type": "code",
      "metadata": {
        "id": "zX4Kg8DUTKWO"
      },
      "source": [
        "#@title Licensed under the Apache License, Version 2.0 (the \"License\");\n",
        "# you may not use this file except in compliance with the License.\n",
        "# You may obtain a copy of the License at\n",
        "#\n",
        "# https://www.apache.org/licenses/LICENSE-2.0\n",
        "#\n",
        "# Unless required by applicable law or agreed to in writing, software\n",
        "# distributed under the License is distributed on an \"AS IS\" BASIS,\n",
        "# WITHOUT WARRANTIES OR CONDITIONS OF ANY KIND, either express or implied.\n",
        "# See the License for the specific language governing permissions and\n",
        "# limitations under the License."
      ],
      "execution_count": 1,
      "outputs": []
    },
    {
      "cell_type": "markdown",
      "metadata": {
        "id": "dVDTvUWAJs9O"
      },
      "source": [
        "<a href=\"https://colab.research.google.com/github/lmoroney/dlaicourse/blob/master/TensorFlow%20In%20Practice/Course%203%20-%20NLP/NLP%20Course%20-%20Week%203%20Exercise%20Answer.ipynb\" target=\"_parent\"><img src=\"https://colab.research.google.com/assets/colab-badge.svg\" alt=\"Open In Colab\"/></a>"
      ]
    },
    {
      "cell_type": "code",
      "metadata": {
        "id": "hmA6EzkQJ5jt"
      },
      "source": [
        "import json\n",
        "import tensorflow as tf\n",
        "import csv\n",
        "import random\n",
        "import numpy as np\n",
        "\n",
        "from tensorflow.keras.preprocessing.text import Tokenizer\n",
        "from tensorflow.keras.preprocessing.sequence import pad_sequences\n",
        "from tensorflow.keras.utils import to_categorical\n",
        "from tensorflow.keras import regularizers\n",
        "\n",
        "\n",
        "embedding_dim = 100\n",
        "max_length = 16\n",
        "trunc_type='post'\n",
        "padding_type='post'\n",
        "oov_tok = \"<OOV>\"\n",
        "training_size=160000\n",
        "test_portion=.1\n",
        "\n",
        "corpus = []\n"
      ],
      "execution_count": 2,
      "outputs": []
    },
    {
      "cell_type": "code",
      "metadata": {
        "id": "bM0l_dORKqE0",
        "outputId": "e158164f-e9fd-4233-9017-137f1c8629b5",
        "colab": {
          "base_uri": "https://localhost:8080/"
        }
      },
      "source": [
        "# Note that I cleaned the Stanford dataset to remove LATIN1 encoding to make it easier for Python CSV reader\n",
        "# You can do that yourself with:\n",
        "# iconv -f LATIN1 -t UTF8 training.1600000.processed.noemoticon.csv -o training_cleaned.csv\n",
        "# I then hosted it on my site to make it easier to use in this notebook\n",
        "\n",
        "!wget --no-check-certificate \\\n",
        "    https://storage.googleapis.com/laurencemoroney-blog.appspot.com/training_cleaned.csv \\\n",
        "    -O /tmp/training_cleaned.csv\n",
        "\n",
        "num_sentences = 0\n",
        "\n",
        "with open(\"/tmp/training_cleaned.csv\") as csvfile:\n",
        "    reader = csv.reader(csvfile, delimiter=',')\n",
        "    for row in reader:\n",
        "        list_item=[]\n",
        "        list_item.append(row[5])\n",
        "        this_label=row[0]\n",
        "        if this_label=='0':\n",
        "            list_item.append(0)\n",
        "        else:\n",
        "            list_item.append(1)\n",
        "        num_sentences = num_sentences + 1\n",
        "        corpus.append(list_item)\n"
      ],
      "execution_count": 3,
      "outputs": [
        {
          "output_type": "stream",
          "text": [
            "--2020-11-15 04:26:02--  https://storage.googleapis.com/laurencemoroney-blog.appspot.com/training_cleaned.csv\n",
            "Resolving storage.googleapis.com (storage.googleapis.com)... 142.250.73.208, 142.250.73.240, 172.217.8.16, ...\n",
            "Connecting to storage.googleapis.com (storage.googleapis.com)|142.250.73.208|:443... connected.\n",
            "HTTP request sent, awaiting response... 200 OK\n",
            "Length: 238942690 (228M) [application/octet-stream]\n",
            "Saving to: ‘/tmp/training_cleaned.csv’\n",
            "\n",
            "/tmp/training_clean 100%[===================>] 227.87M   207MB/s    in 1.1s    \n",
            "\n",
            "2020-11-15 04:26:03 (207 MB/s) - ‘/tmp/training_cleaned.csv’ saved [238942690/238942690]\n",
            "\n"
          ],
          "name": "stdout"
        }
      ]
    },
    {
      "cell_type": "code",
      "metadata": {
        "id": "3kxblBUjEUX-",
        "outputId": "207fc172-69f8-4d81-f700-8a39f2b10473",
        "colab": {
          "base_uri": "https://localhost:8080/"
        }
      },
      "source": [
        "print(num_sentences)\n",
        "print(len(corpus))\n",
        "print(corpus[1])\n",
        "\n",
        "# Expected Output:\n",
        "# 1600000\n",
        "# 1600000\n",
        "# [\"is upset that he can't update his Facebook by texting it... and might cry as a result  School today also. Blah!\", 0]"
      ],
      "execution_count": 4,
      "outputs": [
        {
          "output_type": "stream",
          "text": [
            "1600000\n",
            "1600000\n",
            "[\"is upset that he can't update his Facebook by texting it... and might cry as a result  School today also. Blah!\", 0]\n"
          ],
          "name": "stdout"
        }
      ]
    },
    {
      "cell_type": "code",
      "metadata": {
        "id": "ohOGz24lsNAD"
      },
      "source": [
        "sentences=[]\n",
        "labels=[]\n",
        "random.shuffle(corpus)\n",
        "for x in range(training_size):\n",
        "    sentences.append(corpus[x][0])\n",
        "    labels.append(corpus[x][1])\n",
        "\n",
        "\n",
        "tokenizer = Tokenizer()\n",
        "tokenizer.fit_on_texts(sentences)\n",
        "\n",
        "word_index = tokenizer.word_index\n",
        "vocab_size=len(word_index)\n",
        "\n",
        "sequences = tokenizer.texts_to_sequences(sentences)\n",
        "padded = pad_sequences(sequences, maxlen=max_length, padding=padding_type, truncating=trunc_type)\n",
        "\n",
        "split = int(test_portion * training_size)\n",
        "\n",
        "test_sequences = padded[0:split]\n",
        "training_sequences = padded[split:training_size]\n",
        "test_labels = labels[0:split]\n",
        "training_labels = labels[split:training_size]"
      ],
      "execution_count": 5,
      "outputs": []
    },
    {
      "cell_type": "code",
      "metadata": {
        "id": "gIrtRem1En3N",
        "outputId": "370a2f2e-9d9c-4f7b-a2da-c6d5477ed3b6",
        "colab": {
          "base_uri": "https://localhost:8080/"
        }
      },
      "source": [
        "print(vocab_size)\n",
        "print(word_index['i'])\n",
        "# Expected Output\n",
        "# 138858\n",
        "# 1"
      ],
      "execution_count": 6,
      "outputs": [
        {
          "output_type": "stream",
          "text": [
            "138005\n",
            "1\n"
          ],
          "name": "stdout"
        }
      ]
    },
    {
      "cell_type": "code",
      "metadata": {
        "id": "C1zdgJkusRh0",
        "outputId": "ab043f48-b0ed-4ae3-e3cc-187aeccd1566",
        "colab": {
          "base_uri": "https://localhost:8080/"
        }
      },
      "source": [
        "# Note this is the 100 dimension version of GloVe from Stanford\n",
        "# I unzipped and hosted it on my site to make this notebook easier\n",
        "!wget --no-check-certificate \\\n",
        "    https://storage.googleapis.com/laurencemoroney-blog.appspot.com/glove.6B.100d.txt \\\n",
        "    -O /tmp/glove.6B.100d.txt\n",
        "embeddings_index = {};\n",
        "with open('/tmp/glove.6B.100d.txt') as f:\n",
        "    for line in f:\n",
        "        values = line.split();\n",
        "        word = values[0];\n",
        "        coefs = np.asarray(values[1:], dtype='float32');\n",
        "        embeddings_index[word] = coefs;\n",
        "\n",
        "embeddings_matrix = np.zeros((vocab_size+1, embedding_dim));\n",
        "for word, i in word_index.items():\n",
        "    embedding_vector = embeddings_index.get(word);\n",
        "    if embedding_vector is not None:\n",
        "        embeddings_matrix[i] = embedding_vector;"
      ],
      "execution_count": 7,
      "outputs": [
        {
          "output_type": "stream",
          "text": [
            "--2020-11-15 04:26:14--  https://storage.googleapis.com/laurencemoroney-blog.appspot.com/glove.6B.100d.txt\n",
            "Resolving storage.googleapis.com (storage.googleapis.com)... 142.250.31.128, 172.217.2.112, 172.217.164.144, ...\n",
            "Connecting to storage.googleapis.com (storage.googleapis.com)|142.250.31.128|:443... connected.\n",
            "HTTP request sent, awaiting response... 200 OK\n",
            "Length: 347116733 (331M) [text/plain]\n",
            "Saving to: ‘/tmp/glove.6B.100d.txt’\n",
            "\n",
            "/tmp/glove.6B.100d. 100%[===================>] 331.04M   267MB/s    in 1.2s    \n",
            "\n",
            "2020-11-15 04:26:15 (267 MB/s) - ‘/tmp/glove.6B.100d.txt’ saved [347116733/347116733]\n",
            "\n"
          ],
          "name": "stdout"
        }
      ]
    },
    {
      "cell_type": "code",
      "metadata": {
        "id": "71NLk_lpFLNt",
        "outputId": "03134d1a-a5c1-4223-c125-b695768871a8",
        "colab": {
          "base_uri": "https://localhost:8080/"
        }
      },
      "source": [
        "print(len(embeddings_matrix))\n",
        "# Expected Output\n",
        "# 138859"
      ],
      "execution_count": 8,
      "outputs": [
        {
          "output_type": "stream",
          "text": [
            "138006\n"
          ],
          "name": "stdout"
        }
      ]
    },
    {
      "cell_type": "code",
      "metadata": {
        "id": "iKKvbuEBOGFz",
        "outputId": "b8cf2918-a288-46fc-d345-0ca1b2199637",
        "colab": {
          "base_uri": "https://localhost:8080/"
        }
      },
      "source": [
        "model = tf.keras.Sequential([\n",
        "    tf.keras.layers.Embedding(vocab_size+1, embedding_dim, input_length=max_length, weights=[embeddings_matrix], trainable=False),\n",
        "    tf.keras.layers.Dropout(0.2),\n",
        "    tf.keras.layers.Conv1D(64, 5, activation='relu'),\n",
        "    tf.keras.layers.MaxPooling1D(pool_size=4),\n",
        "    tf.keras.layers.LSTM(64),\n",
        "    tf.keras.layers.Dense(1, activation='sigmoid')\n",
        "])\n",
        "model.compile(loss='binary_crossentropy',optimizer='adam',metrics=['accuracy'])\n",
        "model.summary()\n",
        "\n",
        "num_epochs = 50\n",
        "\n",
        "training_padded = np.array(training_sequences)\n",
        "training_labels = np.array(training_labels)\n",
        "testing_padded = np.array(test_sequences)\n",
        "testing_labels = np.array(test_labels)\n",
        "\n",
        "history = model.fit(training_padded, training_labels, epochs=num_epochs, validation_data=(testing_padded, testing_labels), verbose=2)\n",
        "\n",
        "print(\"Training Complete\")"
      ],
      "execution_count": 9,
      "outputs": [
        {
          "output_type": "stream",
          "text": [
            "Model: \"sequential\"\n",
            "_________________________________________________________________\n",
            "Layer (type)                 Output Shape              Param #   \n",
            "=================================================================\n",
            "embedding (Embedding)        (None, 16, 100)           13800600  \n",
            "_________________________________________________________________\n",
            "dropout (Dropout)            (None, 16, 100)           0         \n",
            "_________________________________________________________________\n",
            "conv1d (Conv1D)              (None, 12, 64)            32064     \n",
            "_________________________________________________________________\n",
            "max_pooling1d (MaxPooling1D) (None, 3, 64)             0         \n",
            "_________________________________________________________________\n",
            "lstm (LSTM)                  (None, 64)                33024     \n",
            "_________________________________________________________________\n",
            "dense (Dense)                (None, 1)                 65        \n",
            "=================================================================\n",
            "Total params: 13,865,753\n",
            "Trainable params: 65,153\n",
            "Non-trainable params: 13,800,600\n",
            "_________________________________________________________________\n",
            "Epoch 1/50\n",
            "4500/4500 - 16s - loss: 0.5680 - accuracy: 0.6982 - val_loss: 0.5211 - val_accuracy: 0.7364\n",
            "Epoch 2/50\n",
            "4500/4500 - 14s - loss: 0.5292 - accuracy: 0.7287 - val_loss: 0.5072 - val_accuracy: 0.7528\n",
            "Epoch 3/50\n",
            "4500/4500 - 14s - loss: 0.5129 - accuracy: 0.7409 - val_loss: 0.5016 - val_accuracy: 0.7567\n",
            "Epoch 4/50\n",
            "4500/4500 - 14s - loss: 0.4989 - accuracy: 0.7508 - val_loss: 0.4957 - val_accuracy: 0.7577\n",
            "Epoch 5/50\n",
            "4500/4500 - 14s - loss: 0.4903 - accuracy: 0.7576 - val_loss: 0.5059 - val_accuracy: 0.7501\n",
            "Epoch 6/50\n",
            "4500/4500 - 14s - loss: 0.4843 - accuracy: 0.7605 - val_loss: 0.4946 - val_accuracy: 0.7575\n",
            "Epoch 7/50\n",
            "4500/4500 - 14s - loss: 0.4777 - accuracy: 0.7648 - val_loss: 0.4898 - val_accuracy: 0.7612\n",
            "Epoch 8/50\n",
            "4500/4500 - 14s - loss: 0.4730 - accuracy: 0.7683 - val_loss: 0.4919 - val_accuracy: 0.7605\n",
            "Epoch 9/50\n",
            "4500/4500 - 14s - loss: 0.4687 - accuracy: 0.7705 - val_loss: 0.4910 - val_accuracy: 0.7616\n",
            "Epoch 10/50\n",
            "4500/4500 - 14s - loss: 0.4646 - accuracy: 0.7736 - val_loss: 0.4957 - val_accuracy: 0.7600\n",
            "Epoch 11/50\n",
            "4500/4500 - 14s - loss: 0.4624 - accuracy: 0.7752 - val_loss: 0.4951 - val_accuracy: 0.7596\n",
            "Epoch 12/50\n",
            "4500/4500 - 14s - loss: 0.4583 - accuracy: 0.7770 - val_loss: 0.5046 - val_accuracy: 0.7573\n",
            "Epoch 13/50\n",
            "4500/4500 - 14s - loss: 0.4551 - accuracy: 0.7798 - val_loss: 0.4938 - val_accuracy: 0.7623\n",
            "Epoch 14/50\n",
            "4500/4500 - 14s - loss: 0.4539 - accuracy: 0.7798 - val_loss: 0.4945 - val_accuracy: 0.7611\n",
            "Epoch 15/50\n",
            "4500/4500 - 14s - loss: 0.4510 - accuracy: 0.7822 - val_loss: 0.4966 - val_accuracy: 0.7594\n",
            "Epoch 16/50\n",
            "4500/4500 - 14s - loss: 0.4487 - accuracy: 0.7827 - val_loss: 0.4925 - val_accuracy: 0.7614\n",
            "Epoch 17/50\n",
            "4500/4500 - 14s - loss: 0.4478 - accuracy: 0.7842 - val_loss: 0.4987 - val_accuracy: 0.7590\n",
            "Epoch 18/50\n",
            "4500/4500 - 14s - loss: 0.4457 - accuracy: 0.7848 - val_loss: 0.4967 - val_accuracy: 0.7602\n",
            "Epoch 19/50\n",
            "4500/4500 - 14s - loss: 0.4439 - accuracy: 0.7866 - val_loss: 0.4983 - val_accuracy: 0.7566\n",
            "Epoch 20/50\n",
            "4500/4500 - 14s - loss: 0.4431 - accuracy: 0.7874 - val_loss: 0.5087 - val_accuracy: 0.7546\n",
            "Epoch 21/50\n",
            "4500/4500 - 14s - loss: 0.4410 - accuracy: 0.7884 - val_loss: 0.5027 - val_accuracy: 0.7581\n",
            "Epoch 22/50\n",
            "4500/4500 - 14s - loss: 0.4391 - accuracy: 0.7888 - val_loss: 0.5019 - val_accuracy: 0.7575\n",
            "Epoch 23/50\n",
            "4500/4500 - 15s - loss: 0.4385 - accuracy: 0.7898 - val_loss: 0.5047 - val_accuracy: 0.7566\n",
            "Epoch 24/50\n",
            "4500/4500 - 14s - loss: 0.4391 - accuracy: 0.7894 - val_loss: 0.5091 - val_accuracy: 0.7589\n",
            "Epoch 25/50\n",
            "4500/4500 - 14s - loss: 0.4391 - accuracy: 0.7888 - val_loss: 0.5076 - val_accuracy: 0.7552\n",
            "Epoch 26/50\n",
            "4500/4500 - 15s - loss: 0.4357 - accuracy: 0.7916 - val_loss: 0.5065 - val_accuracy: 0.7552\n",
            "Epoch 27/50\n",
            "4500/4500 - 14s - loss: 0.4359 - accuracy: 0.7914 - val_loss: 0.5119 - val_accuracy: 0.7531\n",
            "Epoch 28/50\n",
            "4500/4500 - 14s - loss: 0.4356 - accuracy: 0.7912 - val_loss: 0.5087 - val_accuracy: 0.7579\n",
            "Epoch 29/50\n",
            "4500/4500 - 14s - loss: 0.4346 - accuracy: 0.7912 - val_loss: 0.5123 - val_accuracy: 0.7572\n",
            "Epoch 30/50\n",
            "4500/4500 - 15s - loss: 0.4345 - accuracy: 0.7931 - val_loss: 0.5051 - val_accuracy: 0.7552\n",
            "Epoch 31/50\n",
            "4500/4500 - 14s - loss: 0.4341 - accuracy: 0.7932 - val_loss: 0.5117 - val_accuracy: 0.7564\n",
            "Epoch 32/50\n",
            "4500/4500 - 14s - loss: 0.4331 - accuracy: 0.7929 - val_loss: 0.5167 - val_accuracy: 0.7499\n",
            "Epoch 33/50\n",
            "4500/4500 - 14s - loss: 0.4318 - accuracy: 0.7939 - val_loss: 0.5080 - val_accuracy: 0.7549\n",
            "Epoch 34/50\n",
            "4500/4500 - 15s - loss: 0.4318 - accuracy: 0.7944 - val_loss: 0.5082 - val_accuracy: 0.7553\n",
            "Epoch 35/50\n",
            "4500/4500 - 15s - loss: 0.4303 - accuracy: 0.7949 - val_loss: 0.5136 - val_accuracy: 0.7517\n",
            "Epoch 36/50\n",
            "4500/4500 - 15s - loss: 0.4304 - accuracy: 0.7949 - val_loss: 0.5050 - val_accuracy: 0.7561\n",
            "Epoch 37/50\n",
            "4500/4500 - 15s - loss: 0.4307 - accuracy: 0.7931 - val_loss: 0.5119 - val_accuracy: 0.7575\n",
            "Epoch 38/50\n",
            "4500/4500 - 14s - loss: 0.4307 - accuracy: 0.7952 - val_loss: 0.5105 - val_accuracy: 0.7531\n",
            "Epoch 39/50\n",
            "4500/4500 - 14s - loss: 0.4278 - accuracy: 0.7963 - val_loss: 0.5098 - val_accuracy: 0.7533\n",
            "Epoch 40/50\n",
            "4500/4500 - 14s - loss: 0.4277 - accuracy: 0.7956 - val_loss: 0.5125 - val_accuracy: 0.7518\n",
            "Epoch 41/50\n",
            "4500/4500 - 14s - loss: 0.4295 - accuracy: 0.7957 - val_loss: 0.5078 - val_accuracy: 0.7576\n",
            "Epoch 42/50\n",
            "4500/4500 - 14s - loss: 0.4280 - accuracy: 0.7955 - val_loss: 0.5123 - val_accuracy: 0.7551\n",
            "Epoch 43/50\n",
            "4500/4500 - 14s - loss: 0.4270 - accuracy: 0.7971 - val_loss: 0.5102 - val_accuracy: 0.7538\n",
            "Epoch 44/50\n",
            "4500/4500 - 15s - loss: 0.4274 - accuracy: 0.7970 - val_loss: 0.5125 - val_accuracy: 0.7572\n",
            "Epoch 45/50\n",
            "4500/4500 - 15s - loss: 0.4276 - accuracy: 0.7969 - val_loss: 0.5142 - val_accuracy: 0.7518\n",
            "Epoch 46/50\n",
            "4500/4500 - 15s - loss: 0.4272 - accuracy: 0.7955 - val_loss: 0.5160 - val_accuracy: 0.7525\n",
            "Epoch 47/50\n",
            "4500/4500 - 15s - loss: 0.4270 - accuracy: 0.7967 - val_loss: 0.5143 - val_accuracy: 0.7527\n",
            "Epoch 48/50\n",
            "4500/4500 - 15s - loss: 0.4282 - accuracy: 0.7961 - val_loss: 0.5120 - val_accuracy: 0.7563\n",
            "Epoch 49/50\n",
            "4500/4500 - 14s - loss: 0.4273 - accuracy: 0.7969 - val_loss: 0.5138 - val_accuracy: 0.7509\n",
            "Epoch 50/50\n",
            "4500/4500 - 15s - loss: 0.4275 - accuracy: 0.7968 - val_loss: 0.5119 - val_accuracy: 0.7531\n",
            "Training Complete\n"
          ],
          "name": "stdout"
        }
      ]
    },
    {
      "cell_type": "code",
      "metadata": {
        "id": "qxju4ItJKO8F",
        "outputId": "7f2778cd-0de7-4a3d-fc5a-2bbedc50b8a8",
        "colab": {
          "base_uri": "https://localhost:8080/",
          "height": 606
        }
      },
      "source": [
        "import matplotlib.image  as mpimg\n",
        "import matplotlib.pyplot as plt\n",
        "\n",
        "#-----------------------------------------------------------\n",
        "# Retrieve a list of list results on training and test data\n",
        "# sets for each training epoch\n",
        "#-----------------------------------------------------------\n",
        "acc=history.history['accuracy']\n",
        "val_acc=history.history['val_accuracy']\n",
        "loss=history.history['loss']\n",
        "val_loss=history.history['val_loss']\n",
        "\n",
        "epochs=range(len(acc)) # Get number of epochs\n",
        "\n",
        "#------------------------------------------------\n",
        "# Plot training and validation accuracy per epoch\n",
        "#------------------------------------------------\n",
        "plt.plot(epochs, acc, 'r')\n",
        "plt.plot(epochs, val_acc, 'b')\n",
        "plt.title('Training and validation accuracy')\n",
        "plt.xlabel(\"Epochs\")\n",
        "plt.ylabel(\"Accuracy\")\n",
        "plt.legend([\"Accuracy\", \"Validation Accuracy\"])\n",
        "\n",
        "plt.figure()\n",
        "\n",
        "#------------------------------------------------\n",
        "# Plot training and validation loss per epoch\n",
        "#------------------------------------------------\n",
        "plt.plot(epochs, loss, 'r')\n",
        "plt.plot(epochs, val_loss, 'b')\n",
        "plt.title('Training and validation loss')\n",
        "plt.xlabel(\"Epochs\")\n",
        "plt.ylabel(\"Loss\")\n",
        "plt.legend([\"Loss\", \"Validation Loss\"])\n",
        "\n",
        "plt.figure()\n",
        "\n",
        "\n",
        "# Expected Output\n",
        "# A chart where the validation loss does not increase sharply!"
      ],
      "execution_count": 10,
      "outputs": [
        {
          "output_type": "execute_result",
          "data": {
            "text/plain": [
              "<Figure size 432x288 with 0 Axes>"
            ]
          },
          "metadata": {
            "tags": []
          },
          "execution_count": 10
        },
        {
          "output_type": "display_data",
          "data": {
            "image/png": "[encoded data removed]",
            "text/plain": [
              "<Figure size 432x288 with 1 Axes>"
            ]
          },
          "metadata": {
            "tags": [],
            "needs_background": "light"
          }
        },
        {
          "output_type": "display_data",
          "data": {
            "image/png": "[encoded data removed]",
            "text/plain": [
              "<Figure size 432x288 with 1 Axes>"
            ]
          },
          "metadata": {
            "tags": [],
            "needs_background": "light"
          }
        },
        {
          "output_type": "display_data",
          "data": {
            "text/plain": [
              "<Figure size 432x288 with 0 Axes>"
            ]
          },
          "metadata": {
            "tags": []
          }
        }
      ]
    }
  ]
}